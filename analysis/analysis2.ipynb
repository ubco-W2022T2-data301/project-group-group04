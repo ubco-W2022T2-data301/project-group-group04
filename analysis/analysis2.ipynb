{
 "cells": [
  {
   "attachments": {},
   "cell_type": "markdown",
   "metadata": {},
   "source": [
    "# Sydney Parnell"
   ]
  },
  {
   "attachments": {},
   "cell_type": "markdown",
   "metadata": {},
   "source": [
    "## Research question/interest\n",
    "\n",
    "**I am interested in assessing how AQI levels are associated with industrialized and rural areas. Specifically, I want to look at how avtivities, factory production and farming, done wihin industrialized and rural areas increase the presence of certain particulates including methane, ammoniums, and nitrates and how these particulates effect the overall AQI in separate areas.**\n",
    "\n",
    "### Plan\n",
    "1. Get rid of unnecessary data within the dataframe\n",
    "1. Identify what particulates I will be analyzing in relation to industrial production and rural activities such as farming (perhaps methanes, ammoniums, nitrates, etc.)\n",
    "1. Tidy data to reflect the parameters I will be analyzing \n",
    "1. Determine relevent correlation based on research question\n",
    "\n"
   ]
  },
  {
   "cell_type": "code",
   "execution_count": null,
   "metadata": {},
   "outputs": [],
   "source": [
    "import numpy as np\n",
    "import pandas as pd\n",
    "\n",
    "AQI = pd.concat(pd.read_csv(f\"../data/raw/annual_aqi_by_cbsa_{i}.csv\") for i in range (2011,2023))\n",
    "\n",
    "Con = pd.concat(pd.read_csv(f\"../data/raw/annual_conc_by_monitor_{i}.csv\") for i in range(2011,2023))\n",
    "\n"
   ]
  }
 ],
 "metadata": {},
 "nbformat": 4,
 "nbformat_minor": 2
}
