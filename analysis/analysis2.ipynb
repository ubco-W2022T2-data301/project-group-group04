{
 "cells": [
  {
   "attachments": {},
   "cell_type": "markdown",
   "metadata": {},
   "source": [
    "# Sky Huang"
   ]
  },
  {
   "attachments": {},
   "cell_type": "markdown",
   "metadata": {},
   "source": [
    "## Research question/interests\n",
    "\n",
    "**I want to look at the effects of large bodies of water on the air quality, by looking at the level of CO, CO2, NO2, and other chemicals such as benzene** at both coastal and landlocked metro areas and comparing them. Furthermore, I will check if asthma levels are significantly different across these two categories. Additionally, I will try to control other variables by only comparing metro areas of similar size.I plan to filter the data to isolate coastal and landlocked metro areas, and then compare the air quality levels of these two groups.\n",
    "\n",
    "## Plan \n",
    "1. Filter the data to isolate coastal and landlocked metro areas\n",
    "2. look for collation between air quality and asthma levels in each group individually\n",
    "3. check for collation between air quality and asthma levels in both groups combined\n",
    "4. Analyze the data to see if there is a significant difference in air quality between the two groups"
   ]
  },
  {
   "cell_type": "code",
   "execution_count": null,
   "metadata": {},
   "outputs": [],
   "source": [
    "import pandas as pd\n",
    "import numpy as np\n",
    "import matplotlib.pyplot as plt\n",
    "import seaborn as sns\n",
    "import geopandas as gpd\n",
    "import geoplot as gplt\n",
    "\n",
    "aqi = pd.concat(pd.read_csv(f\"../data/raw/annual_aqi_by_cbsa_{year}.csv\") for year in range(2011, 2023))\n",
    "\n",
    "# aqi2011 = pd.read_csv(\"../data/raw/annual_aqi_by_cbsa_2011.csv\")\n",
    "# aqi2012 = pd.read_csv(\"../data/raw/annual_aqi_by_cbsa_2012.csv\")\n",
    "# aqi2013 = pd.read_csv(\"../data/raw/annual_aqi_by_cbsa_2013.csv\")\n",
    "# aqi2014 = pd.read_csv(\"../data/raw/annual_aqi_by_cbsa_2014.csv\")\n",
    "# aqi2015 = pd.read_csv(\"../data/raw/annual_aqi_by_cbsa_2015.csv\")\n",
    "# aqi2016 = pd.read_csv(\"../data/raw/annual_aqi_by_cbsa_2016.csv\")\n",
    "# aqi2017 = pd.read_csv(\"../data/raw/annual_aqi_by_cbsa_2017.csv\")\n",
    "# aqi2018 = pd.read_csv(\"../data/raw/annual_aqi_by_cbsa_2018.csv\")\n",
    "# aqi2019 = pd.read_csv(\"../data/raw/annual_aqi_by_cbsa_2019.csv\")\n",
    "# aqi2020 = pd.read_csv(\"../data/raw/annual_aqi_by_cbsa_2020.csv\")\n",
    "# aqi2021 = pd.read_csv(\"../data/raw/annual_aqi_by_cbsa_2021.csv\")\n",
    "# aqi2022 = pd.read_csv(\"../data/raw/annual_aqi_by_cbsa_2022.csv\")\n",
    "\n",
    "concentration = pd.concat(pd.read_csv(f\"../data/raw/annual_conc_by_monitor_{year}.csv\") for year in range(2011, 2023))\n",
    "# concentration2011= pd.read_csv(\"../data/raw/annual_conc_by_monitor_2011.csv\")\n",
    "# concentration2012= pd.read_csv(\"../data/raw/annual_conc_by_monitor_2012.csv\")\n",
    "# concentration2013= pd.read_csv(\"../data/raw/annual_conc_by_monitor_2013.csv\")\n",
    "# concentration2014= pd.read_csv(\"../data/raw/annual_conc_by_monitor_2014.csv\")\n",
    "# concentration2015= pd.read_csv(\"../data/raw/annual_conc_by_monitor_2015.csv\")\n",
    "# concentration2016= pd.read_csv(\"../data/raw/annual_conc_by_monitor_2016.csv\")\n",
    "# concentration2017= pd.read_csv(\"../data/raw/annual_conc_by_monitor_2017.csv\")\n",
    "# concentration2018= pd.read_csv(\"../data/raw/annual_conc_by_monitor_2018.csv\")\n",
    "# concentration2019= pd.read_csv(\"../data/raw/annual_conc_by_monitor_2019.csv\")\n",
    "# concentration2020= pd.read_csv(\"../data/raw/annual_conc_by_monitor_2020.csv\")\n",
    "# concentration2021= pd.read_csv(\"../data/raw/annual_conc_by_monitor_2021.csv\")\n",
    "# concentration2022= pd.read_csv(\"../data/raw/annual_conc_by_monitor_2022.csv\")\n",
    "\n",
    "combined = concentration.merge(\n",
    "    aqi, how=\"inner\", left_on=[\"Year\", \"CBSA Name\"], right_on=[\"Year\", \"CBSA\"]\n",
    ").drop(columns=[\"CBSA\"])"
   ]
  },
  {
   "cell_type": "code",
   "execution_count": null,
   "metadata": {},
   "outputs": [],
   "source": [
    "eda = combined.groupby([\"State Name\"])[[\"Max AQI\",\"90th Percentile AQI\",\"Median AQI\"]].mean()\n",
    "fig, ax = plt.subplots(figsize=(6, 15))\n",
    "sns.barplot(data=eda, x=\"Median AQI\", y=eda.index, ax=ax)"
   ]
  },
  {
   "cell_type": "code",
   "execution_count": null,
   "metadata": {},
   "outputs": [],
   "source": [
    "notlandlocked = ['Alaska', 'Hawaii', 'Washington', 'Oregon', 'California', 'Texas', 'Louisiana', 'Alabama', 'Florida', 'Georgia', 'South Carolina', 'North Carolina', 'Virginia', 'Maryland', 'Delaware', 'New Jersey', 'Mississippi', 'New York', 'Connecticut', 'Rhode Island', 'Massachusetts', 'New Hampshire', 'Maine']\n",
    "li = []\n",
    "for i in eda.index:\n",
    "    landlocked = True\n",
    "    if i in notlandlocked:\n",
    "        landlocked = False\n",
    "    if landlocked:\n",
    "        li.append(\"Landlocked\")\n",
    "    else:\n",
    "        li.append(\"Not Landlocked\")\n",
    "eda[\"Landlocked\"] = li\n",
    "fig, ax = plt.subplots(figsize=(6, 15))\n",
    "sns.barplot(data=eda, x=\"Median AQI\", y=eda.index, hue=\"Landlocked\")"
   ]
  },
  {
   "cell_type": "code",
   "execution_count": null,
   "metadata": {},
   "outputs": [],
   "source": [
    "geo = gpd.GeoDataFrame(combined)"
   ]
  }
 ],
 "metadata": {
  "kernelspec": {
   "display_name": "Data301",
   "language": "python",
   "name": "python3"
  },
  "language_info": {
   "name": "python",
   "version": "3.11.1"
  }
 },
 "nbformat": 4,
 "nbformat_minor": 2
}
