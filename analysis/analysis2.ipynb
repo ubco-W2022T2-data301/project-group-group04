{
 "cells": [
  {
   "attachments": {},
   "cell_type": "markdown",
   "metadata": {},
   "source": [
    "# Sydney Parnell"
   ]
  },
  {
   "attachments": {},
   "cell_type": "markdown",
   "metadata": {},
   "source": [
    "## Research question/interest\n",
    "\n",
    "I am interested in assessing how AQI correlates with industrialized and rural areas. Specifically, I want to look at how avtivities, factory production and farming, done wihin industrialized and rural areas increase the presence of certain particulates including methane ammoniums, and nitrates and how these particulates effect the overall AQI in separate areas. \n"
   ]
  }
 ],
 "metadata": {},
 "nbformat": 4,
 "nbformat_minor": 2
}
