{
 "cells": [
  {
   "attachments": {},
   "cell_type": "markdown",
   "metadata": {},
   "source": [
    "# Gavin Kendal-Freedman"
   ]
  },
  {
   "attachments": {},
   "cell_type": "markdown",
   "metadata": {},
   "source": [
    "## Research question/interests\n",
    "\n",
    "**My main interest is how different chemicals effect air quality ratings, specifically the main hazardous components in fuels for motor vehicles or stoves like natural gas/gasoline/diesel fuels (benzene, toluene, propane, methane, sulfurs/oxides of nitrogens, 2,2,4-Trimethylpentane (octane from standard gasoline)), and also potentially common organic solvents/reagents that are used in manufacturing (methacrylates, chloroform/methyl chloroform, acetylene, nitric acid), and how these different particulates effect AQI. Further, I want to see if there is a significant difference in air quality change across time in urban vs rural areas (not just if urban areas have better/worse air quality), based on specific particulates in the first part, and if there is any correlations between asthma rates in different areas and the levels of pollutants there (not across time because the asthma data does not have a time series attached to it).**\n",
    "\n",
    "### Rough Plan for Data Analysis\n",
    "\n",
    "1. (Already done as part of loading) Combine all EPA data files into one dataframe\n",
    "1. Remove all rows that do not contain the parameters of interest (see above)\n",
    "1. Remove columns that are mostly null/na/nan/missing values or are not interesting to the analysis\n",
    "1. For locations that have multiple observations for a parameter in a year, average them and all statistics about the measurements for the year\n",
    "1. Isolate a single metric for each parameter of interest (preferably \"Observed Values\"), preferably an overall average for the year and not the mean for daily maximums\n",
    "1. Check for any correlations between the parameters of interest to other parameters of interest, and the AQI\n",
    "1. Check changes in concentrations over time and see if there are any correlations between the changes in concentrations and the AQI\n",
    "1. Geo-plot the change in AQI over time for each location, with an overlay showing the change in a normalization and aggregation of the parameters of interest\n",
    "1. For 2020, geo-plot the AQI and the parameters of interest for each location and overlay the asthma rates for each location"
   ]
  },
  {
   "cell_type": "code",
   "execution_count": 1,
   "metadata": {},
   "outputs": [],
   "source": [
    "# Imports\n",
    "from itertools import chain\n",
    "from typing import TYPE_CHECKING,  Literal\n",
    "\n",
    "import geopandas as gpd\n",
    "import geoplot as gplt\n",
    "import geoplot.crs as gcrs\n",
    "import matplotlib.pyplot as plt\n",
    "import numpy as np\n",
    "import pandas as pd\n",
    "import plotly.express as px\n",
    "import plotly.graph_objects as go\n",
    "import seaborn as sns\n",
    "from matplotlib.axes import Axes\n",
    "from matplotlib.figure import Figure\n",
    "\n",
    "# this is a little bit of a hack to get typing hints for the projects function code since\n",
    "# relative imports won't work properly and the runtime solution doesn't work\n",
    "# for static analysis (type checking) since its not runtime\n",
    "if TYPE_CHECKING:\n",
    "    from .code import project_functions1 as utils\n",
    "else:\n",
    "    __import__(\"sys\").path.append(\"./code\")\n",
    "    import project_functions1 as utils"
   ]
  },
  {
   "cell_type": "code",
   "execution_count": 2,
   "metadata": {},
   "outputs": [],
   "source": [
    "# Setup seaborn/matplotlib theme information\n",
    "sns.set_theme(style=\"darkgrid\", font_scale=1.5) # type: ignore"
   ]
  },
  {
   "cell_type": "code",
   "execution_count": 10,
   "metadata": {},
   "outputs": [],
   "source": [
    "__import__(\"importlib\").reload(utils) and None"
   ]
  },
  {
   "cell_type": "code",
   "execution_count": 12,
   "metadata": {},
   "outputs": [],
   "source": [
    "# Load the data using the function\n",
    "df = utils.load_and_process(range(2011,2023))\n",
    "# shapedata: gpd.GeoDataFrame = gpd.read_file(utils.PROJECT_ROOT / \"data/raw/contiguous-usa.geojson\")"
   ]
  },
  {
   "cell_type": "code",
   "execution_count": 14,
   "metadata": {},
   "outputs": [],
   "source": [
    "df = (\n",
    "    df.pivot_table(\n",
    "        values=[\"Arithmetic Mean\"],\n",
    "        columns=[\"Parameter Name\"],\n",
    "        index=[\"CBSA Name\", \"Year\"],\n",
    "    )\n",
    "    .droplevel(0, axis=1)\n",
    "    .merge(\n",
    "        df.drop(columns=[\"Arithmetic Mean\", \"Parameter Name\"]),\n",
    "        how=\"left\",\n",
    "        left_index=True,\n",
    "        right_on=[\"CBSA Name\", \"Year\"],\n",
    "    )\n",
    ").set_index([\"Year\", \"CBSA Name\"])"
   ]
  },
  {
   "cell_type": "code",
   "execution_count": 17,
   "metadata": {},
   "outputs": [],
   "source": [
    "df = df.set_index([\"Year\", \"CBSA Name\"])"
   ]
  },
  {
   "cell_type": "code",
   "execution_count": 18,
   "metadata": {},
   "outputs": [],
   "source": [
    "df = df.loc[2015].reset_index().set_index(\"CBSAFP\")\n",
    "df[\"Max AQI\"] = df[\"Max AQI\"].map(lambda x: x if 0 <= x <= 500 else 501 if x > 500 else 0)"
   ]
  },
  {
   "cell_type": "code",
   "execution_count": 25,
   "metadata": {},
   "outputs": [],
   "source": [
    "df[\n",
    "    [\n",
    "        \"Ammonium compounds\",\n",
    "        \"Benzenes\",\n",
    "        \"Carbon monoxide\",\n",
    "        \"Heavy Metals\",\n",
    "        \"Nitric oxides\",\n",
    "        \"Nitrogen dioxide (NO2)\",\n",
    "        \"Ozone\",\n",
    "        \"Sulfur dioxide\",\n",
    "        \"Various Particulates\",\n",
    "    ]\n",
    "] = df[\n",
    "    [\n",
    "        \"Ammonium compounds\",\n",
    "        \"Benzenes\",\n",
    "        \"Carbon monoxide\",\n",
    "        \"Heavy Metals\",\n",
    "        \"Nitric oxides\",\n",
    "        \"Nitrogen dioxide (NO2)\",\n",
    "        \"Ozone\",\n",
    "        \"Sulfur dioxide\",\n",
    "        \"Various Particulates\",\n",
    "    ]\n",
    "].fillna(\n",
    "    \"Missing\", axis=\"columns\"\n",
    ")\n"
   ]
  },
  {
   "cell_type": "code",
   "execution_count": 26,
   "metadata": {},
   "outputs": [
    {
     "ename": "NameError",
     "evalue": "name 'df_tmp' is not defined",
     "output_type": "error",
     "traceback": [
      "\u001b[0;31m---------------------------------------------------------------------------\u001b[0m",
      "\u001b[0;31mNameError\u001b[0m                                 Traceback (most recent call last)",
      "Cell \u001b[0;32mIn[26], line 45\u001b[0m\n\u001b[1;32m      1\u001b[0m year \u001b[39m=\u001b[39m \u001b[39m2015\u001b[39m\n\u001b[1;32m      2\u001b[0m \u001b[39m# fig = px.choropleth_mapbox(\u001b[39;00m\n\u001b[1;32m      3\u001b[0m \u001b[39m#     df_tmp,\u001b[39;00m\n\u001b[1;32m      4\u001b[0m \u001b[39m#     geojson=df_tmp.geometry,\u001b[39;00m\n\u001b[0;32m   (...)\u001b[0m\n\u001b[1;32m     42\u001b[0m \u001b[39m#     colorbar_title=\"Max AQI (Higher is Worse)\"\u001b[39;00m\n\u001b[1;32m     43\u001b[0m \u001b[39m# ))\u001b[39;00m\n\u001b[1;32m     44\u001b[0m fig \u001b[39m=\u001b[39m px\u001b[39m.\u001b[39mchoropleth(\n\u001b[0;32m---> 45\u001b[0m     df_tmp,\n\u001b[1;32m     46\u001b[0m     locations\u001b[39m=\u001b[39mdf_tmp\u001b[39m.\u001b[39mindex,\n\u001b[1;32m     47\u001b[0m     color\u001b[39m=\u001b[39m\u001b[39m'\u001b[39m\u001b[39mMax AQI\u001b[39m\u001b[39m'\u001b[39m,\n\u001b[1;32m     48\u001b[0m     geojson\u001b[39m=\u001b[39mdf_tmp\u001b[39m.\u001b[39mgeometry,\n\u001b[1;32m     49\u001b[0m     \u001b[39m# locationmode=\"geojson-id\", #'USA-states',\u001b[39;00m\n\u001b[1;32m     50\u001b[0m     \u001b[39m# colorscale='Reds',\u001b[39;00m\n\u001b[1;32m     51\u001b[0m     \u001b[39m# autocolorscale=False,\u001b[39;00m\n\u001b[1;32m     52\u001b[0m     \u001b[39m# text=df['text'], # hover text\u001b[39;00m\n\u001b[1;32m     53\u001b[0m     \u001b[39m# marker_line_color='white', # line markers between states\u001b[39;00m\n\u001b[1;32m     54\u001b[0m     \u001b[39m# colorbar_title=\"Max AQI (Higher is Worse)\",\u001b[39;00m\n\u001b[1;32m     55\u001b[0m     hover_name\u001b[39m=\u001b[39m\u001b[39m\"\u001b[39m\u001b[39mNAME\u001b[39m\u001b[39m\"\u001b[39m,\n\u001b[1;32m     56\u001b[0m     hover_data\u001b[39m=\u001b[39m[\n\u001b[1;32m     57\u001b[0m         \u001b[39m\"\u001b[39m\u001b[39mDays with AQI\u001b[39m\u001b[39m\"\u001b[39m,\n\u001b[1;32m     58\u001b[0m         \u001b[39m\"\u001b[39m\u001b[39m90th Percentile AQI\u001b[39m\u001b[39m\"\u001b[39m,\n\u001b[1;32m     59\u001b[0m         \u001b[39m\"\u001b[39m\u001b[39mMedian AQI\u001b[39m\u001b[39m\"\u001b[39m,\n\u001b[1;32m     60\u001b[0m         \u001b[39m\"\u001b[39m\u001b[39mMax AQI\u001b[39m\u001b[39m\"\u001b[39m,\n\u001b[1;32m     61\u001b[0m         \u001b[39m\"\u001b[39m\u001b[39mAmmonium compounds\u001b[39m\u001b[39m\"\u001b[39m,\n\u001b[1;32m     62\u001b[0m         \u001b[39m\"\u001b[39m\u001b[39mBenzenes\u001b[39m\u001b[39m\"\u001b[39m,\n\u001b[1;32m     63\u001b[0m         \u001b[39m\"\u001b[39m\u001b[39mCarbon monoxide\u001b[39m\u001b[39m\"\u001b[39m,\n\u001b[1;32m     64\u001b[0m         \u001b[39m\"\u001b[39m\u001b[39mHeavy Metals\u001b[39m\u001b[39m\"\u001b[39m,\n\u001b[1;32m     65\u001b[0m         \u001b[39m\"\u001b[39m\u001b[39mNitric oxides\u001b[39m\u001b[39m\"\u001b[39m,\n\u001b[1;32m     66\u001b[0m         \u001b[39m\"\u001b[39m\u001b[39mNitrogen dioxide (NO2)\u001b[39m\u001b[39m\"\u001b[39m,\n\u001b[1;32m     67\u001b[0m         \u001b[39m\"\u001b[39m\u001b[39mOzone\u001b[39m\u001b[39m\"\u001b[39m,\n\u001b[1;32m     68\u001b[0m         \u001b[39m\"\u001b[39m\u001b[39mSulfur dioxide\u001b[39m\u001b[39m\"\u001b[39m,\n\u001b[1;32m     69\u001b[0m         \u001b[39m\"\u001b[39m\u001b[39mVarious Particulates\u001b[39m\u001b[39m\"\u001b[39m,\n\u001b[1;32m     70\u001b[0m         \u001b[39m\"\u001b[39m\u001b[39mLatitude\u001b[39m\u001b[39m\"\u001b[39m,\n\u001b[1;32m     71\u001b[0m         \u001b[39m\"\u001b[39m\u001b[39mLongitude\u001b[39m\u001b[39m\"\u001b[39m,\n\u001b[1;32m     72\u001b[0m     ],\n\u001b[1;32m     73\u001b[0m )\n\u001b[1;32m     74\u001b[0m fig\u001b[39m.\u001b[39mupdate_layout(\n\u001b[1;32m     75\u001b[0m     \u001b[39m# margin={\"r\": 0, \"t\": 50, \"l\": 0, \"b\": 0},\u001b[39;00m\n\u001b[1;32m     76\u001b[0m     title\u001b[39m=\u001b[39m\u001b[39mf\u001b[39m\u001b[39m\"\u001b[39m\u001b[39mMaximum Measured AQI values by CBSA for \u001b[39m\u001b[39m{\u001b[39;00myear\u001b[39m}\u001b[39;00m\u001b[39m. (Higher Numbers Are Worse)\u001b[39m\u001b[39m\"\u001b[39m,\n\u001b[0;32m   (...)\u001b[0m\n\u001b[1;32m     82\u001b[0m     ),\n\u001b[1;32m     83\u001b[0m )\n\u001b[1;32m     84\u001b[0m hovertext \u001b[39m=\u001b[39m \u001b[39m\"\u001b[39m\u001b[39m\"\u001b[39m\n",
      "\u001b[0;31mNameError\u001b[0m: name 'df_tmp' is not defined"
     ]
    }
   ],
   "source": [
    "year = 2015\n",
    "# fig = px.choropleth_mapbox(\n",
    "#     df_tmp,\n",
    "#     geojson=df_tmp.geometry,\n",
    "#     locations=df_tmp.index,\n",
    "#     color=\"Max AQI\",\n",
    "#     center={\"lat\": 37.0902, \"lon\": -95.7129},\n",
    "#     mapbox_style=\"open-street-map\",\n",
    "#     zoom=3,\n",
    "#     hover_name=\"NAME\",\n",
    "#     hover_data=[\n",
    "#         \"Days with AQI\",\n",
    "#         \"90th Percentile AQI\",\n",
    "#         \"Median AQI\",\n",
    "#         \"Max AQI\",\n",
    "#         \"Ammonium compounds\",\n",
    "#         \"Benzenes\",\n",
    "#         \"Carbon monoxide\",\n",
    "#         \"Heavy Metals\",\n",
    "#         \"Nitric oxides\",\n",
    "#         \"Nitrogen dioxide (NO2)\",\n",
    "#         \"Ozone\",\n",
    "#         \"Sulfur dioxide\",\n",
    "#         \"Various Particulates\",\n",
    "#         \"Latitude\",\n",
    "#         \"Longitude\",\n",
    "#     ],\n",
    "#     title=f\"Maximum Measured AQI values by CBSA for {year}. (Higher Numbers Are Worse)\",\n",
    "# )\n",
    "\n",
    "# df_tmp.assign(text=lambda row : f\"\")\n",
    "\n",
    "# fig = go.Figure(data=go.Choropleth(\n",
    "#     locations=df_tmp.index,\n",
    "#     z=df_tmp['Max AQI'],\n",
    "#     # locationmode=\"geojson-id\", #'USA-states',\n",
    "#     geojson=df_tmp.geometry,\n",
    "#     # colorscale='Reds',\n",
    "#     # autocolorscale=False,\n",
    "#     # text=df['text'], # hover text\n",
    "#     marker_line_color='white', # line markers between states\n",
    "#     colorbar_title=\"Max AQI (Higher is Worse)\"\n",
    "# ))\n",
    "fig = px.choropleth(\n",
    "    df,\n",
    "    locations=df.index,\n",
    "    color='Max AQI',\n",
    "    geojson=df.geometry,\n",
    "    # locationmode=\"geojson-id\", #'USA-states',\n",
    "    # colorscale='Reds',\n",
    "    # autocolorscale=False,\n",
    "    # text=df['text'], # hover text\n",
    "    # marker_line_color='white', # line markers between states\n",
    "    # colorbar_title=\"Max AQI (Higher is Worse)\",\n",
    "    hover_name=\"NAME\",\n",
    "    hover_data=[\n",
    "        \"Days with AQI\",\n",
    "        \"90th Percentile AQI\",\n",
    "        \"Median AQI\",\n",
    "        \"Max AQI\",\n",
    "        \"Ammonium compounds\",\n",
    "        \"Benzenes\",\n",
    "        \"Carbon monoxide\",\n",
    "        \"Heavy Metals\",\n",
    "        \"Nitric oxides\",\n",
    "        \"Nitrogen dioxide (NO2)\",\n",
    "        \"Ozone\",\n",
    "        \"Sulfur dioxide\",\n",
    "        \"Various Particulates\",\n",
    "        \"Latitude\",\n",
    "        \"Longitude\",\n",
    "    ],\n",
    ")\n",
    "fig.update_layout(\n",
    "    # margin={\"r\": 0, \"t\": 50, \"l\": 0, \"b\": 0},\n",
    "    title=f\"Maximum Measured AQI values by CBSA for {year}. (Higher Numbers Are Worse)\",\n",
    "    geo=dict(\n",
    "        scope=\"usa\",\n",
    "        projection=go.layout.geo.Projection(type=\"albers usa\"),\n",
    "        showlakes=True,  # lakes\n",
    "        lakecolor=\"rgb(255, 255, 255)\",\n",
    "    ),\n",
    ")\n",
    "# hovertext = \"\"\n",
    "# fig.update_traces()\n",
    "fig.show()\n"
   ]
  },
  {
   "cell_type": "code",
   "execution_count": null,
   "metadata": {},
   "outputs": [],
   "source": [
    "df_tmp.loc[39140]"
   ]
  },
  {
   "cell_type": "code",
   "execution_count": null,
   "metadata": {},
   "outputs": [],
   "source": [
    "df.to_csv(utils.PROJECT_ROOT / \"data/processed/processed1.csv\")"
   ]
  },
  {
   "cell_type": "code",
   "execution_count": null,
   "metadata": {},
   "outputs": [],
   "source": [
    "parameters = [\n",
    "    \"Max AQI\",\n",
    "    \"Ozone\",\n",
    "    \"Ammonium compounds\",\n",
    "    \"Carbon monoxide\",\n",
    "    \"Heavy Metals\",\n",
    "    \"Nitric oxides\",\n",
    "    \"Nitrogen dioxide (NO2)\",\n",
    "    \"Sulfur dioxide\",\n",
    "    \"Various Particulates\",\n",
    "    \"Benzenes\",\n",
    "]\n"
   ]
  },
  {
   "cell_type": "code",
   "execution_count": null,
   "metadata": {},
   "outputs": [],
   "source": [
    "test_geo[\"Max AQI\"] = test_geo[\"Max AQI\"].map(lambda value: value if 0 <= value <= 500 else 501 if value > 500 else 0)"
   ]
  },
  {
   "cell_type": "code",
   "execution_count": null,
   "metadata": {},
   "outputs": [],
   "source": [
    "projection=gcrs.AlbersEqualArea(central_latitude=39.8282, central_longitude=-98.5795)"
   ]
  },
  {
   "cell_type": "code",
   "execution_count": null,
   "metadata": {},
   "outputs": [],
   "source": [
    "years: list[Literal[2011,2012,2013,2014,2015,2016,2017,2018,2019,2020,2021,2022]] = [2011,2012,2013,2014,2015,2016,2017,2018,2019,2020,2021,2022]\n",
    "figs: dict[Literal[2011,2012,2013,2014,2015,2016,2017,2018,2019,2020,2021,2022], tuple[Figure, list[list[Axes]]]] = {}\n",
    "for year in years:\n",
    "    fig, axarr = plt.subplots(5, 2, figsize=(24, 28), subplot_kw={\"projection\": projection}, sharex=True, sharey=True, squeeze=True)\n",
    "    for param, ax in zip(parameters,chain.from_iterable(axarr)):\n",
    "        gplt.polyplot(shapedata, ax=ax)\n",
    "        gplt.choropleth(\n",
    "            df.dropna(subset=param).loc[2015],\n",
    "            hue=param,\n",
    "            legend=True,\n",
    "            ax=ax,\n",
    "            edgecolor=\"black\",\n",
    "            linewidth=1,\n",
    "            cmap=\"autumn\",\n",
    "        )\n",
    "        ax.set_title(label=param)\n",
    "    fig.tight_layout()\n",
    "    fig.subplots_adjust(top=0.95)\n",
    "    fig.suptitle(f\"Concentrations for various parameters divided by CBSA for {year} (Higher values are worse)\", va=\"baseline\")\n",
    "    figs[year] = (fig, axarr)"
   ]
  },
  {
   "cell_type": "code",
   "execution_count": null,
   "metadata": {},
   "outputs": [],
   "source": [
    "fig2, axarr2 = plt.subplots(6, 2, figsize=(24, 28), subplot_kw={\"projection\": projection}, sharex=True, sharey=True, squeeze=True)\n",
    "year_mapping_info: dict[int, tuple[int, int]] = {\n",
    "    2011: (0, 0),\n",
    "    2012: (0, 1),\n",
    "    2013: (1, 0),\n",
    "    2014: (1, 1),\n",
    "    2015: (2, 0),\n",
    "    2016: (2, 1),\n",
    "    2017: (3, 0),\n",
    "    2018: (3, 1),\n",
    "    2019: (4, 0),\n",
    "    2020: (4, 1),\n",
    "    2021: (5, 0),\n",
    "    2022: (5, 1),\n",
    "}\n",
    "for year, ax in zip(list(range(2011,2023)),chain.from_iterable(axarr2)):\n",
    "    ax = axarr2[year_mapping_info[year][0]][year_mapping_info[year][1]]\n",
    "    gplt.polyplot(shapedata, projection=gcrs.AlbersEqualArea(central_latitude=39.8282, central_longitude=-98.5795), ax=ax)\n",
    "    gplt.choropleth(\n",
    "        test_geo.loc[year],\n",
    "        hue=\"Max AQI\",\n",
    "        ax=ax,\n",
    "        legend=True,\n",
    "        edgecolor=\"black\",\n",
    "        linewidth=0.1,\n",
    "        cmap=\"autumn\",\n",
    "        # legend_labels=legend_values\n",
    "    )\n",
    "    ax.set_title(f\"{year}\", fontsize=18)\n",
    "fig2.tight_layout()\n",
    "fig2.subplots_adjust(top=0.95)\n",
    "fig2.suptitle(\n",
    "    \"Max AQI by CBSA in the continental US for 2011 to 2022\",\n",
    "    fontsize=18,\n",
    ")\n",
    "None"
   ]
  },
  {
   "cell_type": "code",
   "execution_count": null,
   "metadata": {},
   "outputs": [],
   "source": [
    "# grouped = (\n",
    "#     df.loc[df[\"Parameter Name\"].isin(whitelist)]\n",
    "#     .drop_duplicates(subset=[\"CBSA Name\", \"Year\", \"Parameter Name\"])\n",
    "#     .groupby([\"CBSA Name\", \"Parameter Name\"], as_index=False)\n",
    "# )[\"Arithmetic Mean\"].agg(\"mean\").pivot(\n",
    "#     values=\"Arithmetic Mean\",\n",
    "#     columns=\"Parameter Name\",\n",
    "#     index=\"CBSA Name\",\n",
    "# )\n",
    "# corr = grouped.corr()\n",
    "\n",
    "# # Generate a mask for the top right so we only generate one correlation per \n",
    "# # pair of factors.\n",
    "# mask = np.triu(np.ones_like(corr, dtype=np.bool_))\n",
    "\n",
    "# # Generate custom color map\n",
    "# cmap = sns.diverging_palette(220, 10, as_cmap=True)\n",
    "\n",
    "# # Create figure using seaborn:\n",
    "# heatmap = sns.heatmap(corr, mask=mask, cmap=cmap, vmax=.3, center=0, square=True, linewidths=.5, cbar_kws={\"shrink\": .5})\n",
    "# heatmap.set(title='Heatmap of Parameters')\n",
    "# None"
   ]
  }
 ],
 "metadata": {
  "kernelspec": {
   "display_name": "Python 3",
   "language": "python",
   "name": "python3"
  },
  "language_info": {
   "codemirror_mode": {
    "name": "ipython",
    "version": 3
   },
   "file_extension": ".py",
   "mimetype": "text/x-python",
   "name": "python",
   "nbconvert_exporter": "python",
   "pygments_lexer": "ipython3",
   "version": "3.11.1"
  }
 },
 "nbformat": 4,
 "nbformat_minor": 2
}
